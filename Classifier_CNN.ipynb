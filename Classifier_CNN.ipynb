{
 "cells": [
  {
   "attachments": {},
   "cell_type": "markdown",
   "metadata": {},
   "source": [
    "## Imports"
   ]
  },
  {
   "cell_type": "code",
   "execution_count": 84,
   "metadata": {},
   "outputs": [],
   "source": [
    "import pandas as pd\n",
    "import matplotlib.pyplot as plt\n",
    "from sklearn.model_selection import train_test_split\n",
    "from sklearn.tree import DecisionTreeClassifier\n",
    "from sklearn.neighbors import KNeighborsClassifier\n",
    "from sklearn.ensemble import RandomForestClassifier\n",
    "\n",
    "import seaborn as sns\n",
    "from sklearn.metrics import confusion_matrix"
   ]
  },
  {
   "attachments": {},
   "cell_type": "markdown",
   "metadata": {},
   "source": [
    "## Chargement du dataset"
   ]
  },
  {
   "cell_type": "code",
   "execution_count": 85,
   "metadata": {},
   "outputs": [],
   "source": [
    "df = pd.read_csv('dataset.csv')\n",
    "df = df.dropna(inplace=False)"
   ]
  },
  {
   "cell_type": "code",
   "execution_count": 86,
   "metadata": {},
   "outputs": [],
   "source": [
    "def resultat(string):\n",
    "    if string == 'H':\n",
    "        return 1\n",
    "    if string == 'D':\n",
    "        return 0\n",
    "    if string == 'A':\n",
    "        return 2\n",
    "\n",
    "df['FTR'] = df['FTR'].apply(resultat)"
   ]
  },
  {
   "cell_type": "code",
   "execution_count": 87,
   "metadata": {},
   "outputs": [
    {
     "data": {
      "text/html": [
       "<div>\n",
       "<style scoped>\n",
       "    .dataframe tbody tr th:only-of-type {\n",
       "        vertical-align: middle;\n",
       "    }\n",
       "\n",
       "    .dataframe tbody tr th {\n",
       "        vertical-align: top;\n",
       "    }\n",
       "\n",
       "    .dataframe thead th {\n",
       "        text-align: right;\n",
       "    }\n",
       "</style>\n",
       "<table border=\"1\" class=\"dataframe\">\n",
       "  <thead>\n",
       "    <tr style=\"text-align: right;\">\n",
       "      <th></th>\n",
       "      <th>HomeScored</th>\n",
       "      <th>HomeConceded</th>\n",
       "      <th>AwayScored</th>\n",
       "      <th>AwayConceded</th>\n",
       "      <th>HomePoints</th>\n",
       "      <th>AwayPoints</th>\n",
       "      <th>WHH</th>\n",
       "      <th>WHD</th>\n",
       "      <th>WHA</th>\n",
       "      <th>HomeFormPts</th>\n",
       "      <th>AwayFormPts</th>\n",
       "      <th>Home3GW</th>\n",
       "      <th>Home5GW</th>\n",
       "      <th>Home3GL</th>\n",
       "      <th>Home5GL</th>\n",
       "      <th>Away3GW</th>\n",
       "      <th>Away5GW</th>\n",
       "      <th>Away3GL</th>\n",
       "      <th>Away5GL</th>\n",
       "    </tr>\n",
       "  </thead>\n",
       "  <tbody>\n",
       "    <tr>\n",
       "      <th>0</th>\n",
       "      <td>0.0</td>\n",
       "      <td>0.0</td>\n",
       "      <td>0.0</td>\n",
       "      <td>0.0</td>\n",
       "      <td>0</td>\n",
       "      <td>0</td>\n",
       "      <td>1.45</td>\n",
       "      <td>3.50</td>\n",
       "      <td>6.00</td>\n",
       "      <td>0</td>\n",
       "      <td>0</td>\n",
       "      <td>0</td>\n",
       "      <td>0</td>\n",
       "      <td>0</td>\n",
       "      <td>0</td>\n",
       "      <td>0</td>\n",
       "      <td>0</td>\n",
       "      <td>0</td>\n",
       "      <td>0</td>\n",
       "    </tr>\n",
       "    <tr>\n",
       "      <th>1</th>\n",
       "      <td>0.0</td>\n",
       "      <td>0.0</td>\n",
       "      <td>0.0</td>\n",
       "      <td>0.0</td>\n",
       "      <td>0</td>\n",
       "      <td>0</td>\n",
       "      <td>1.40</td>\n",
       "      <td>3.70</td>\n",
       "      <td>6.50</td>\n",
       "      <td>0</td>\n",
       "      <td>0</td>\n",
       "      <td>0</td>\n",
       "      <td>0</td>\n",
       "      <td>0</td>\n",
       "      <td>0</td>\n",
       "      <td>0</td>\n",
       "      <td>0</td>\n",
       "      <td>0</td>\n",
       "      <td>0</td>\n",
       "    </tr>\n",
       "    <tr>\n",
       "      <th>2</th>\n",
       "      <td>0.0</td>\n",
       "      <td>0.0</td>\n",
       "      <td>0.0</td>\n",
       "      <td>0.0</td>\n",
       "      <td>0</td>\n",
       "      <td>0</td>\n",
       "      <td>1.65</td>\n",
       "      <td>3.25</td>\n",
       "      <td>4.70</td>\n",
       "      <td>0</td>\n",
       "      <td>0</td>\n",
       "      <td>0</td>\n",
       "      <td>0</td>\n",
       "      <td>0</td>\n",
       "      <td>0</td>\n",
       "      <td>0</td>\n",
       "      <td>0</td>\n",
       "      <td>0</td>\n",
       "      <td>0</td>\n",
       "    </tr>\n",
       "    <tr>\n",
       "      <th>3</th>\n",
       "      <td>0.0</td>\n",
       "      <td>0.0</td>\n",
       "      <td>0.0</td>\n",
       "      <td>0.0</td>\n",
       "      <td>0</td>\n",
       "      <td>0</td>\n",
       "      <td>1.50</td>\n",
       "      <td>3.40</td>\n",
       "      <td>6.00</td>\n",
       "      <td>0</td>\n",
       "      <td>0</td>\n",
       "      <td>0</td>\n",
       "      <td>0</td>\n",
       "      <td>0</td>\n",
       "      <td>0</td>\n",
       "      <td>0</td>\n",
       "      <td>0</td>\n",
       "      <td>0</td>\n",
       "      <td>0</td>\n",
       "    </tr>\n",
       "    <tr>\n",
       "      <th>4</th>\n",
       "      <td>0.0</td>\n",
       "      <td>0.0</td>\n",
       "      <td>0.0</td>\n",
       "      <td>0.0</td>\n",
       "      <td>0</td>\n",
       "      <td>0</td>\n",
       "      <td>2.40</td>\n",
       "      <td>2.90</td>\n",
       "      <td>2.75</td>\n",
       "      <td>0</td>\n",
       "      <td>0</td>\n",
       "      <td>0</td>\n",
       "      <td>0</td>\n",
       "      <td>0</td>\n",
       "      <td>0</td>\n",
       "      <td>0</td>\n",
       "      <td>0</td>\n",
       "      <td>0</td>\n",
       "      <td>0</td>\n",
       "    </tr>\n",
       "    <tr>\n",
       "      <th>...</th>\n",
       "      <td>...</td>\n",
       "      <td>...</td>\n",
       "      <td>...</td>\n",
       "      <td>...</td>\n",
       "      <td>...</td>\n",
       "      <td>...</td>\n",
       "      <td>...</td>\n",
       "      <td>...</td>\n",
       "      <td>...</td>\n",
       "      <td>...</td>\n",
       "      <td>...</td>\n",
       "      <td>...</td>\n",
       "      <td>...</td>\n",
       "      <td>...</td>\n",
       "      <td>...</td>\n",
       "      <td>...</td>\n",
       "      <td>...</td>\n",
       "      <td>...</td>\n",
       "      <td>...</td>\n",
       "    </tr>\n",
       "    <tr>\n",
       "      <th>7337</th>\n",
       "      <td>34.0</td>\n",
       "      <td>62.0</td>\n",
       "      <td>36.0</td>\n",
       "      <td>52.0</td>\n",
       "      <td>35</td>\n",
       "      <td>37</td>\n",
       "      <td>2.15</td>\n",
       "      <td>3.50</td>\n",
       "      <td>3.20</td>\n",
       "      <td>4</td>\n",
       "      <td>4</td>\n",
       "      <td>0</td>\n",
       "      <td>0</td>\n",
       "      <td>0</td>\n",
       "      <td>0</td>\n",
       "      <td>0</td>\n",
       "      <td>0</td>\n",
       "      <td>0</td>\n",
       "      <td>0</td>\n",
       "    </tr>\n",
       "    <tr>\n",
       "      <th>7338</th>\n",
       "      <td>59.0</td>\n",
       "      <td>38.0</td>\n",
       "      <td>60.0</td>\n",
       "      <td>39.0</td>\n",
       "      <td>68</td>\n",
       "      <td>63</td>\n",
       "      <td>2.10</td>\n",
       "      <td>3.40</td>\n",
       "      <td>3.40</td>\n",
       "      <td>9</td>\n",
       "      <td>10</td>\n",
       "      <td>0</td>\n",
       "      <td>0</td>\n",
       "      <td>0</td>\n",
       "      <td>0</td>\n",
       "      <td>0</td>\n",
       "      <td>0</td>\n",
       "      <td>0</td>\n",
       "      <td>0</td>\n",
       "    </tr>\n",
       "    <tr>\n",
       "      <th>7339</th>\n",
       "      <td>54.0</td>\n",
       "      <td>47.0</td>\n",
       "      <td>41.0</td>\n",
       "      <td>76.0</td>\n",
       "      <td>54</td>\n",
       "      <td>31</td>\n",
       "      <td>2.55</td>\n",
       "      <td>3.50</td>\n",
       "      <td>2.62</td>\n",
       "      <td>7</td>\n",
       "      <td>1</td>\n",
       "      <td>0</td>\n",
       "      <td>0</td>\n",
       "      <td>0</td>\n",
       "      <td>0</td>\n",
       "      <td>0</td>\n",
       "      <td>0</td>\n",
       "      <td>0</td>\n",
       "      <td>0</td>\n",
       "    </tr>\n",
       "    <tr>\n",
       "      <th>7340</th>\n",
       "      <td>85.0</td>\n",
       "      <td>36.0</td>\n",
       "      <td>35.0</td>\n",
       "      <td>64.0</td>\n",
       "      <td>83</td>\n",
       "      <td>31</td>\n",
       "      <td>1.20</td>\n",
       "      <td>7.00</td>\n",
       "      <td>12.00</td>\n",
       "      <td>9</td>\n",
       "      <td>7</td>\n",
       "      <td>0</td>\n",
       "      <td>0</td>\n",
       "      <td>0</td>\n",
       "      <td>0</td>\n",
       "      <td>0</td>\n",
       "      <td>0</td>\n",
       "      <td>0</td>\n",
       "      <td>0</td>\n",
       "    </tr>\n",
       "    <tr>\n",
       "      <th>7341</th>\n",
       "      <td>41.0</td>\n",
       "      <td>41.0</td>\n",
       "      <td>49.0</td>\n",
       "      <td>34.0</td>\n",
       "      <td>46</td>\n",
       "      <td>64</td>\n",
       "      <td>4.00</td>\n",
       "      <td>3.80</td>\n",
       "      <td>1.80</td>\n",
       "      <td>9</td>\n",
       "      <td>9</td>\n",
       "      <td>0</td>\n",
       "      <td>0</td>\n",
       "      <td>0</td>\n",
       "      <td>0</td>\n",
       "      <td>0</td>\n",
       "      <td>0</td>\n",
       "      <td>0</td>\n",
       "      <td>0</td>\n",
       "    </tr>\n",
       "  </tbody>\n",
       "</table>\n",
       "<p>7202 rows × 19 columns</p>\n",
       "</div>"
      ],
      "text/plain": [
       "      HomeScored  HomeConceded  AwayScored  AwayConceded  HomePoints  \\\n",
       "0            0.0           0.0         0.0           0.0           0   \n",
       "1            0.0           0.0         0.0           0.0           0   \n",
       "2            0.0           0.0         0.0           0.0           0   \n",
       "3            0.0           0.0         0.0           0.0           0   \n",
       "4            0.0           0.0         0.0           0.0           0   \n",
       "...          ...           ...         ...           ...         ...   \n",
       "7337        34.0          62.0        36.0          52.0          35   \n",
       "7338        59.0          38.0        60.0          39.0          68   \n",
       "7339        54.0          47.0        41.0          76.0          54   \n",
       "7340        85.0          36.0        35.0          64.0          83   \n",
       "7341        41.0          41.0        49.0          34.0          46   \n",
       "\n",
       "      AwayPoints   WHH   WHD    WHA  HomeFormPts  AwayFormPts  Home3GW  \\\n",
       "0              0  1.45  3.50   6.00            0            0        0   \n",
       "1              0  1.40  3.70   6.50            0            0        0   \n",
       "2              0  1.65  3.25   4.70            0            0        0   \n",
       "3              0  1.50  3.40   6.00            0            0        0   \n",
       "4              0  2.40  2.90   2.75            0            0        0   \n",
       "...          ...   ...   ...    ...          ...          ...      ...   \n",
       "7337          37  2.15  3.50   3.20            4            4        0   \n",
       "7338          63  2.10  3.40   3.40            9           10        0   \n",
       "7339          31  2.55  3.50   2.62            7            1        0   \n",
       "7340          31  1.20  7.00  12.00            9            7        0   \n",
       "7341          64  4.00  3.80   1.80            9            9        0   \n",
       "\n",
       "      Home5GW  Home3GL  Home5GL  Away3GW  Away5GW  Away3GL  Away5GL  \n",
       "0           0        0        0        0        0        0        0  \n",
       "1           0        0        0        0        0        0        0  \n",
       "2           0        0        0        0        0        0        0  \n",
       "3           0        0        0        0        0        0        0  \n",
       "4           0        0        0        0        0        0        0  \n",
       "...       ...      ...      ...      ...      ...      ...      ...  \n",
       "7337        0        0        0        0        0        0        0  \n",
       "7338        0        0        0        0        0        0        0  \n",
       "7339        0        0        0        0        0        0        0  \n",
       "7340        0        0        0        0        0        0        0  \n",
       "7341        0        0        0        0        0        0        0  \n",
       "\n",
       "[7202 rows x 19 columns]"
      ]
     },
     "execution_count": 87,
     "metadata": {},
     "output_type": "execute_result"
    }
   ],
   "source": [
    "df_equipe = df[['HomeTeam', 'AwayTeam', 'FTR']]\n",
    "df = df.drop(['HomeTeam', 'AwayTeam', 'FTR','HomeFormPtsStr','AwayFormPtsStr','MatchWeek'], axis=1)\n",
    "#df = df.drop(['Home3GW','Home5GW','Home3GL','Home5GL','Away3GW','Away5GW','Away3GL','Away5GL'], axis=1)\n",
    "df"
   ]
  },
  {
   "attachments": {},
   "cell_type": "markdown",
   "metadata": {},
   "source": [
    "## Classification"
   ]
  },
  {
   "attachments": {},
   "cell_type": "markdown",
   "metadata": {},
   "source": [
    "Arbre Décisionel"
   ]
  },
  {
   "cell_type": "code",
   "execution_count": 88,
   "metadata": {},
   "outputs": [],
   "source": [
    "X = df\n",
    "y = df_equipe['FTR']\n",
    "X_train, X_test, y_train, y_test = train_test_split(X, y, test_size=0.2, random_state=1)\n",
    "\n",
    "clf_DT = DecisionTreeClassifier()\n",
    "clf_DT.fit(X_train, y_train)\n",
    "\n",
    "y_pred_DT = clf_DT.predict(X_test)\n",
    "\n",
    "accuracy_DT = clf_DT.score(X_test, y_test)"
   ]
  },
  {
   "cell_type": "code",
   "execution_count": 89,
   "metadata": {},
   "outputs": [
    {
     "data": {
      "text/plain": [
       "<Axes: >"
      ]
     },
     "execution_count": 89,
     "metadata": {},
     "output_type": "execute_result"
    },
    {
     "data": {
      "image/png": "[encoded data removed]",
      "text/plain": [
       "<Figure size 640x480 with 2 Axes>"
      ]
     },
     "metadata": {},
     "output_type": "display_data"
    }
   ],
   "source": [
    "cm = confusion_matrix(y_test, y_pred_DT)\n",
    "sns.heatmap(cm, annot=True, fmt='d')"
   ]
  },
  {
   "attachments": {},
   "cell_type": "markdown",
   "metadata": {},
   "source": [
    "KNN"
   ]
  },
  {
   "cell_type": "code",
   "execution_count": 90,
   "metadata": {},
   "outputs": [],
   "source": [
    "X = df\n",
    "y = df_equipe['FTR']\n",
    "X_train, X_test, y_train, y_test = train_test_split(X, y, test_size=0.2, random_state=1)\n",
    "\n",
    "clf_KNN = KNeighborsClassifier(n_neighbors=8)\n",
    "clf_KNN.fit(X_train, y_train)\n",
    "\n",
    "y_pred_KNN = clf_KNN.predict(X_test)\n",
    "\n",
    "accuracy_KNN = clf_KNN.score(X_test, y_test)"
   ]
  },
  {
   "cell_type": "code",
   "execution_count": 91,
   "metadata": {},
   "outputs": [
    {
     "data": {
      "text/plain": [
       "<Axes: >"
      ]
     },
     "execution_count": 91,
     "metadata": {},
     "output_type": "execute_result"
    },
    {
     "data": {
      "image/png": "[encoded data removed]",
      "text/plain": [
       "<Figure size 640x480 with 2 Axes>"
      ]
     },
     "metadata": {},
     "output_type": "display_data"
    }
   ],
   "source": [
    "cm = confusion_matrix(y_test, y_pred_KNN)\n",
    "sns.heatmap(cm, annot=True, fmt='d')"
   ]
  },
  {
   "attachments": {},
   "cell_type": "markdown",
   "metadata": {},
   "source": [
    "Random Forest"
   ]
  },
  {
   "cell_type": "code",
   "execution_count": 92,
   "metadata": {},
   "outputs": [],
   "source": [
    "X = df\n",
    "y = df_equipe['FTR']\n",
    "X_train, X_test, y_train, y_test = train_test_split(X, y, test_size=0.2, random_state=1)\n",
    "\n",
    "clf_RF = RandomForestClassifier(max_depth=2, random_state=0)\n",
    "clf_RF.fit(X_train, y_train)\n",
    "\n",
    "y_pred_RF = clf_RF.predict(X_test)\n",
    "\n",
    "accuracy_RF = clf_RF.score(X_test, y_test)"
   ]
  },
  {
   "cell_type": "code",
   "execution_count": 93,
   "metadata": {},
   "outputs": [
    {
     "data": {
      "text/plain": [
       "<Axes: >"
      ]
     },
     "execution_count": 93,
     "metadata": {},
     "output_type": "execute_result"
    },
    {
     "data": {
      "image/png": "[encoded data removed]",
      "text/plain": [
       "<Figure size 640x480 with 2 Axes>"
      ]
     },
     "metadata": {},
     "output_type": "display_data"
    }
   ],
   "source": [
    "cm = confusion_matrix(y_test, y_pred_RF)\n",
    "sns.heatmap(cm, annot=True, fmt='d')"
   ]
  },
  {
   "attachments": {},
   "cell_type": "markdown",
   "metadata": {},
   "source": [
    "ConvNet"
   ]
  },
  {
   "cell_type": "code",
   "execution_count": 94,
   "metadata": {},
   "outputs": [],
   "source": [
    "import numpy as np\n",
    "from keras.models import Sequential\n",
    "from keras.layers import Conv1D, MaxPooling1D, Flatten, Dense"
   ]
  },
  {
   "cell_type": "code",
   "execution_count": 95,
   "metadata": {},
   "outputs": [],
   "source": [
    "X = df\n",
    "y = df_equipe['FTR']\n",
    "X_train, X_test, y_train, y_test = train_test_split(X, y, test_size=0.2, random_state=1)\n",
    "\n",
    "X_train = X_train.astype(np.float32)\n",
    "X_test = X_test.astype(np.float32)\n",
    "y_train = y_train.astype(np.float32)\n",
    "y_test = y_test.astype(np.float32)\n",
    "\n",
    "# redimensionner les données pour convenir à la forme de l'entrée de la couche Conv1D\n",
    "X_train = np.expand_dims(X_train, axis=2)\n",
    "X_test = np.expand_dims(X_test, axis=2)"
   ]
  },
  {
   "cell_type": "code",
   "execution_count": 100,
   "metadata": {},
   "outputs": [
    {
     "name": "stdout",
     "output_type": "stream",
     "text": [
      "Model: \"sequential_8\"\n",
      "_________________________________________________________________\n",
      " Layer (type)                Output Shape              Param #   \n",
      "=================================================================\n",
      " conv1d_20 (Conv1D)          (None, 17, 32)            128       \n",
      "                                                                 \n",
      " max_pooling1d_20 (MaxPoolin  (None, 8, 32)            0         \n",
      " g1D)                                                            \n",
      "                                                                 \n",
      " conv1d_21 (Conv1D)          (None, 6, 64)             6208      \n",
      "                                                                 \n",
      " max_pooling1d_21 (MaxPoolin  (None, 3, 64)            0         \n",
      " g1D)                                                            \n",
      "                                                                 \n",
      " flatten_4 (Flatten)         (None, 192)               0         \n",
      "                                                                 \n",
      " dense_8 (Dense)             (None, 128)               24704     \n",
      "                                                                 \n",
      " dense_9 (Dense)             (None, 3)                 387       \n",
      "                                                                 \n",
      "=================================================================\n",
      "Total params: 31,427\n",
      "Trainable params: 31,427\n",
      "Non-trainable params: 0\n",
      "_________________________________________________________________\n",
      "Epoch 1/30\n"
     ]
    },
    {
     "name": "stderr",
     "output_type": "stream",
     "text": [
      "2023-03-17 11:45:47.613336: I tensorflow/core/grappler/optimizers/custom_graph_optimizer_registry.cc:113] Plugin optimizer for device_type GPU is enabled.\n"
     ]
    },
    {
     "name": "stdout",
     "output_type": "stream",
     "text": [
      "72/72 - 1s - loss: 1.1773 - accuracy: 0.4351 - val_loss: 1.0407 - val_accuracy: 0.4631 - 1s/epoch - 15ms/step\n",
      "Epoch 2/30\n"
     ]
    },
    {
     "name": "stderr",
     "output_type": "stream",
     "text": [
      "2023-03-17 11:45:48.360560: I tensorflow/core/grappler/optimizers/custom_graph_optimizer_registry.cc:113] Plugin optimizer for device_type GPU is enabled.\n"
     ]
    },
    {
     "name": "stdout",
     "output_type": "stream",
     "text": [
      "72/72 - 1s - loss: 1.0407 - accuracy: 0.4727 - val_loss: 1.0276 - val_accuracy: 0.4649 - 531ms/epoch - 7ms/step\n",
      "Epoch 3/30\n",
      "72/72 - 1s - loss: 1.0350 - accuracy: 0.4709 - val_loss: 1.0865 - val_accuracy: 0.4501 - 589ms/epoch - 8ms/step\n",
      "Epoch 4/30\n",
      "72/72 - 1s - loss: 1.0313 - accuracy: 0.4761 - val_loss: 1.0350 - val_accuracy: 0.4614 - 633ms/epoch - 9ms/step\n",
      "Epoch 5/30\n",
      "72/72 - 1s - loss: 1.0199 - accuracy: 0.4833 - val_loss: 1.0274 - val_accuracy: 0.4735 - 539ms/epoch - 7ms/step\n",
      "Epoch 6/30\n",
      "72/72 - 1s - loss: 1.0231 - accuracy: 0.4857 - val_loss: 1.0283 - val_accuracy: 0.4709 - 564ms/epoch - 8ms/step\n",
      "Epoch 7/30\n",
      "72/72 - 1s - loss: 1.0154 - accuracy: 0.4878 - val_loss: 1.0153 - val_accuracy: 0.4840 - 519ms/epoch - 7ms/step\n",
      "Epoch 8/30\n",
      "72/72 - 1s - loss: 1.0217 - accuracy: 0.4889 - val_loss: 1.0364 - val_accuracy: 0.4735 - 523ms/epoch - 7ms/step\n",
      "Epoch 9/30\n",
      "72/72 - 1s - loss: 1.0139 - accuracy: 0.4902 - val_loss: 1.0264 - val_accuracy: 0.4709 - 520ms/epoch - 7ms/step\n",
      "Epoch 10/30\n",
      "72/72 - 1s - loss: 1.0169 - accuracy: 0.4831 - val_loss: 1.0308 - val_accuracy: 0.4788 - 520ms/epoch - 7ms/step\n",
      "Epoch 11/30\n",
      "72/72 - 1s - loss: 1.0131 - accuracy: 0.4902 - val_loss: 1.0329 - val_accuracy: 0.4814 - 521ms/epoch - 7ms/step\n",
      "Epoch 12/30\n",
      "72/72 - 1s - loss: 1.0098 - accuracy: 0.4939 - val_loss: 1.0121 - val_accuracy: 0.4935 - 540ms/epoch - 8ms/step\n",
      "Epoch 13/30\n",
      "72/72 - 1s - loss: 1.0104 - accuracy: 0.4926 - val_loss: 1.0170 - val_accuracy: 0.4822 - 517ms/epoch - 7ms/step\n",
      "Epoch 14/30\n",
      "72/72 - 1s - loss: 1.0088 - accuracy: 0.4891 - val_loss: 1.0180 - val_accuracy: 0.4788 - 517ms/epoch - 7ms/step\n",
      "Epoch 15/30\n",
      "72/72 - 1s - loss: 1.0109 - accuracy: 0.4931 - val_loss: 1.0314 - val_accuracy: 0.4788 - 517ms/epoch - 7ms/step\n",
      "Epoch 16/30\n",
      "72/72 - 1s - loss: 1.0084 - accuracy: 0.4944 - val_loss: 1.0316 - val_accuracy: 0.4909 - 526ms/epoch - 7ms/step\n",
      "Epoch 17/30\n",
      "72/72 - 1s - loss: 1.0067 - accuracy: 0.4980 - val_loss: 1.0198 - val_accuracy: 0.4814 - 517ms/epoch - 7ms/step\n",
      "Epoch 18/30\n",
      "72/72 - 1s - loss: 1.0057 - accuracy: 0.4909 - val_loss: 1.0156 - val_accuracy: 0.4796 - 518ms/epoch - 7ms/step\n",
      "Epoch 19/30\n",
      "72/72 - 1s - loss: 1.0035 - accuracy: 0.5007 - val_loss: 1.0208 - val_accuracy: 0.4735 - 596ms/epoch - 8ms/step\n",
      "Epoch 20/30\n",
      "72/72 - 1s - loss: 1.0052 - accuracy: 0.4887 - val_loss: 1.0307 - val_accuracy: 0.4848 - 527ms/epoch - 7ms/step\n",
      "Epoch 21/30\n",
      "72/72 - 1s - loss: 1.0009 - accuracy: 0.4939 - val_loss: 1.0161 - val_accuracy: 0.4866 - 518ms/epoch - 7ms/step\n",
      "Epoch 22/30\n",
      "72/72 - 1s - loss: 0.9989 - accuracy: 0.5037 - val_loss: 1.0155 - val_accuracy: 0.4892 - 519ms/epoch - 7ms/step\n",
      "Epoch 23/30\n",
      "72/72 - 1s - loss: 0.9972 - accuracy: 0.4972 - val_loss: 1.0239 - val_accuracy: 0.4675 - 520ms/epoch - 7ms/step\n",
      "Epoch 24/30\n",
      "72/72 - 1s - loss: 0.9983 - accuracy: 0.5041 - val_loss: 1.0273 - val_accuracy: 0.4814 - 520ms/epoch - 7ms/step\n",
      "Epoch 25/30\n",
      "72/72 - 1s - loss: 0.9945 - accuracy: 0.5076 - val_loss: 1.0189 - val_accuracy: 0.4744 - 507ms/epoch - 7ms/step\n",
      "Epoch 26/30\n",
      "72/72 - 1s - loss: 0.9965 - accuracy: 0.5052 - val_loss: 1.0230 - val_accuracy: 0.4709 - 529ms/epoch - 7ms/step\n",
      "Epoch 27/30\n",
      "72/72 - 1s - loss: 0.9964 - accuracy: 0.5000 - val_loss: 1.0247 - val_accuracy: 0.4744 - 633ms/epoch - 9ms/step\n",
      "Epoch 28/30\n",
      "72/72 - 1s - loss: 0.9916 - accuracy: 0.5028 - val_loss: 1.0237 - val_accuracy: 0.4909 - 529ms/epoch - 7ms/step\n",
      "Epoch 29/30\n",
      "72/72 - 1s - loss: 0.9889 - accuracy: 0.5158 - val_loss: 1.0201 - val_accuracy: 0.4822 - 521ms/epoch - 7ms/step\n",
      "Epoch 30/30\n",
      "72/72 - 1s - loss: 0.9846 - accuracy: 0.5117 - val_loss: 1.0284 - val_accuracy: 0.4709 - 617ms/epoch - 9ms/step\n",
      "46/46 [==============================] - 0s 7ms/step - loss: 1.0177 - accuracy: 0.4906\n",
      "Test accuracy: 0.4906315207481384\n"
     ]
    }
   ],
   "source": [
    "# Créer un modèle séquentiel\n",
    "model = Sequential()\n",
    "kernel_size = 3\n",
    "\n",
    "# Ajouter une couche convolutive avec 32 filtres, une fenêtre de convolution de taille 3, une fonction d'activation ReLU\n",
    "# et une entrée de forme (nombre d'échantillons, longueur de la série, nombre de canaux)\n",
    "model.add(Conv1D(32, kernel_size, activation='relu', input_shape=(X_train.shape[1], X_train.shape[2])))\n",
    "\n",
    "# Ajouter une couche de pooling maximale\n",
    "model.add(MaxPooling1D())\n",
    "\n",
    "# Ajouter une autre couche convolutive avec 64 filtres, une fenêtre de convolution de taille 3, une fonction d'activation ReLU\n",
    "model.add(Conv1D(64, kernel_size, activation='relu'))\n",
    "\n",
    "# Ajouter une autre couche de pooling maximale\n",
    "model.add(MaxPooling1D())\n",
    "\n",
    "# Aplatir les sorties de la couche convolutive précédente en une seule dimension\n",
    "model.add(Flatten())\n",
    "\n",
    "# Ajouter une couche dense avec 128 neurones et une fonction d'activation ReLU\n",
    "model.add(Dense(128, activation='relu'))\n",
    "\n",
    "# Ajouter une couche de sortie avec une fonction d'activation softmax pour obtenir une prédiction parmi 3 catégories\n",
    "model.add(Dense(3, activation='softmax'))\n",
    "\n",
    "# Compiler le modèle en spécifiant la fonction de perte, l'algorithme d'optimisation et la métrique à utiliser\n",
    "# pour évaluer les performances du modèle\n",
    "model.compile(loss='sparse_categorical_crossentropy', optimizer='adam', metrics=['accuracy'])\n",
    "\n",
    "# Afficher un résumé du modèle\n",
    "model.summary()\n",
    "\n",
    "# Former le modèle sur les données d'entraînement\n",
    "model.fit(X_train, y_train, epochs=30, batch_size=64, validation_split=0.2, verbose=2)\n",
    "\n",
    "# Évaluer la performance du modèle sur les données de test\n",
    "test_loss, test_acc = model.evaluate(X_test, y_test)\n",
    "print('Test accuracy:', test_acc)"
   ]
  },
  {
   "cell_type": "code",
   "execution_count": 101,
   "metadata": {},
   "outputs": [
    {
     "name": "stderr",
     "output_type": "stream",
     "text": [
      "2023-03-17 11:47:04.499346: I tensorflow/core/grappler/optimizers/custom_graph_optimizer_registry.cc:113] Plugin optimizer for device_type GPU is enabled.\n"
     ]
    }
   ],
   "source": [
    "y_pred_CNN = model.predict(X_test, verbose=0)"
   ]
  },
  {
   "attachments": {},
   "cell_type": "markdown",
   "metadata": {},
   "source": [
    "SVM :"
   ]
  },
  {
   "cell_type": "code",
   "execution_count": 102,
   "metadata": {},
   "outputs": [],
   "source": [
    "from sklearn.svm import SVC\n",
    "\n",
    "X = df\n",
    "y = df_equipe['FTR']\n",
    "X_train, X_test, y_train, y_test = train_test_split(X, y, test_size=0.2, random_state=1)\n",
    "\n",
    "clf_SVM = SVC(kernel = 'rbf',random_state = 0)\n",
    "clf_SVM.fit(X_train, y_train)\n",
    "\n",
    "y_pred_SVM = clf_SVM.predict(X_test)\n",
    "\n",
    "accuracy_SVM = clf_SVM.score(X_test, y_test)"
   ]
  },
  {
   "cell_type": "code",
   "execution_count": 103,
   "metadata": {},
   "outputs": [
    {
     "data": {
      "text/plain": [
       "<Axes: >"
      ]
     },
     "execution_count": 103,
     "metadata": {},
     "output_type": "execute_result"
    },
    {
     "data": {
      "image/png": "[encoded data removed]",
      "text/plain": [
       "<Figure size 640x480 with 2 Axes>"
      ]
     },
     "metadata": {},
     "output_type": "display_data"
    }
   ],
   "source": [
    "cm = confusion_matrix(y_test, y_pred_SVM)\n",
    "sns.heatmap(cm, annot=True, fmt='d')"
   ]
  },
  {
   "attachments": {},
   "cell_type": "markdown",
   "metadata": {},
   "source": [
    "## Résultats"
   ]
  },
  {
   "cell_type": "code",
   "execution_count": 104,
   "metadata": {},
   "outputs": [
    {
     "name": "stdout",
     "output_type": "stream",
     "text": [
      "Précision du DecisionTreeClassifier: 0.41360166551006244\n",
      "Précision du KNeighborsClassifier: 0.45107564191533656\n",
      "Précision du RandomForestClassifier: 0.5267175572519084\n",
      "Précision du SVM: 0.4961832061068702\n",
      "Précision du CNN: 0.4906315207481384\n"
     ]
    }
   ],
   "source": [
    "print(\"Précision du DecisionTreeClassifier:\", accuracy_DT)\n",
    "print(\"Précision du KNeighborsClassifier:\", accuracy_KNN)\n",
    "print(\"Précision du RandomForestClassifier:\", accuracy_RF)\n",
    "print(\"Précision du SVM:\", accuracy_SVM)\n",
    "print(\"Précision du CNN:\", test_acc)"
   ]
  },
  {
   "cell_type": "code",
   "execution_count": 105,
   "metadata": {},
   "outputs": [
    {
     "data": {
      "text/html": [
       "<div>\n",
       "<style scoped>\n",
       "    .dataframe tbody tr th:only-of-type {\n",
       "        vertical-align: middle;\n",
       "    }\n",
       "\n",
       "    .dataframe tbody tr th {\n",
       "        vertical-align: top;\n",
       "    }\n",
       "\n",
       "    .dataframe thead th {\n",
       "        text-align: right;\n",
       "    }\n",
       "</style>\n",
       "<table border=\"1\" class=\"dataframe\">\n",
       "  <thead>\n",
       "    <tr style=\"text-align: right;\">\n",
       "      <th></th>\n",
       "      <th>HomeTeam</th>\n",
       "      <th>AwayTeam</th>\n",
       "      <th>Résultat</th>\n",
       "      <th>Prédiction</th>\n",
       "    </tr>\n",
       "  </thead>\n",
       "  <tbody>\n",
       "    <tr>\n",
       "      <th>0</th>\n",
       "      <td>Guingamp</td>\n",
       "      <td>St Etienne</td>\n",
       "      <td>0</td>\n",
       "      <td>1</td>\n",
       "    </tr>\n",
       "    <tr>\n",
       "      <th>1</th>\n",
       "      <td>Lille</td>\n",
       "      <td>Rennes</td>\n",
       "      <td>1</td>\n",
       "      <td>1</td>\n",
       "    </tr>\n",
       "    <tr>\n",
       "      <th>2</th>\n",
       "      <td>Lens</td>\n",
       "      <td>Toulouse</td>\n",
       "      <td>1</td>\n",
       "      <td>1</td>\n",
       "    </tr>\n",
       "    <tr>\n",
       "      <th>3</th>\n",
       "      <td>St Etienne</td>\n",
       "      <td>Bordeaux</td>\n",
       "      <td>1</td>\n",
       "      <td>1</td>\n",
       "    </tr>\n",
       "    <tr>\n",
       "      <th>4</th>\n",
       "      <td>Troyes</td>\n",
       "      <td>Auxerre</td>\n",
       "      <td>1</td>\n",
       "      <td>1</td>\n",
       "    </tr>\n",
       "    <tr>\n",
       "      <th>...</th>\n",
       "      <td>...</td>\n",
       "      <td>...</td>\n",
       "      <td>...</td>\n",
       "      <td>...</td>\n",
       "    </tr>\n",
       "    <tr>\n",
       "      <th>1436</th>\n",
       "      <td>Strasbourg</td>\n",
       "      <td>Clermont</td>\n",
       "      <td>1</td>\n",
       "      <td>1</td>\n",
       "    </tr>\n",
       "    <tr>\n",
       "      <th>1437</th>\n",
       "      <td>Troyes</td>\n",
       "      <td>Lens</td>\n",
       "      <td>2</td>\n",
       "      <td>2</td>\n",
       "    </tr>\n",
       "    <tr>\n",
       "      <th>1438</th>\n",
       "      <td>Clermont</td>\n",
       "      <td>Lyon</td>\n",
       "      <td>2</td>\n",
       "      <td>2</td>\n",
       "    </tr>\n",
       "    <tr>\n",
       "      <th>1439</th>\n",
       "      <td>Lille</td>\n",
       "      <td>Rennes</td>\n",
       "      <td>0</td>\n",
       "      <td>2</td>\n",
       "    </tr>\n",
       "    <tr>\n",
       "      <th>1440</th>\n",
       "      <td>Reims</td>\n",
       "      <td>Nice</td>\n",
       "      <td>2</td>\n",
       "      <td>2</td>\n",
       "    </tr>\n",
       "  </tbody>\n",
       "</table>\n",
       "<p>1441 rows × 4 columns</p>\n",
       "</div>"
      ],
      "text/plain": [
       "        HomeTeam    AwayTeam  Résultat  Prédiction\n",
       "0       Guingamp  St Etienne         0           1\n",
       "1          Lille      Rennes         1           1\n",
       "2           Lens    Toulouse         1           1\n",
       "3     St Etienne    Bordeaux         1           1\n",
       "4         Troyes     Auxerre         1           1\n",
       "...          ...         ...       ...         ...\n",
       "1436  Strasbourg    Clermont         1           1\n",
       "1437      Troyes        Lens         2           2\n",
       "1438    Clermont        Lyon         2           2\n",
       "1439       Lille      Rennes         0           2\n",
       "1440       Reims        Nice         2           2\n",
       "\n",
       "[1441 rows x 4 columns]"
      ]
     },
     "execution_count": 105,
     "metadata": {},
     "output_type": "execute_result"
    }
   ],
   "source": [
    "df_final = pd.DataFrame()\n",
    "df_final['Résultat'] = y_test\n",
    "df_final['Prédiction'] = y_pred_RF\n",
    "df_final = pd.merge(df_equipe[['HomeTeam', 'AwayTeam']].reset_index(), df_final.reset_index(), on='index')\n",
    "df_final['Résultat'] = df_final['Résultat'].astype('int')\n",
    "df_final = df_final.drop(['index'], axis=1)\n",
    "df_final"
   ]
  },
  {
   "attachments": {},
   "cell_type": "markdown",
   "metadata": {},
   "source": [
    "## Statistiques"
   ]
  },
  {
   "cell_type": "code",
   "execution_count": 106,
   "metadata": {},
   "outputs": [
    {
     "data": {
      "image/png": "[encoded data removed]",
      "text/plain": [
       "<Figure size 640x480 with 1 Axes>"
      ]
     },
     "metadata": {},
     "output_type": "display_data"
    }
   ],
   "source": [
    "nb_deb = 0\n",
    "nb_fin = 100\n",
    "\n",
    "plt.bar(x=df.columns[nb_deb:nb_fin],height=clf_RF.feature_importances_[nb_deb:nb_fin]*100,width=0.5,bottom=None, align='center')\n",
    "plt.xticks(range(len(df.columns[nb_deb:nb_fin])), df.columns[nb_deb:nb_fin], rotation='vertical')\n",
    "plt.show()"
   ]
  }
 ],
 "metadata": {
  "kernelspec": {
   "display_name": "cours",
   "language": "python",
   "name": "python3"
  },
  "language_info": {
   "codemirror_mode": {
    "name": "ipython",
    "version": 3
   },
   "file_extension": ".py",
   "mimetype": "text/x-python",
   "name": "python",
   "nbconvert_exporter": "python",
   "pygments_lexer": "ipython3",
   "version": "3.10.9"
  },
  "orig_nbformat": 4
 },
 "nbformat": 4,
 "nbformat_minor": 2
}
